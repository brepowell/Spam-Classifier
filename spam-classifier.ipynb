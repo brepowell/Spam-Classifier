{
 "cells": [
  {
   "cell_type": "code",
   "execution_count": 3,
   "metadata": {},
   "outputs": [
    {
     "name": "stdout",
     "output_type": "stream",
     "text": [
      "0.9713004484304932\n"
     ]
    }
   ],
   "source": [
    "#Breanna Powell\n",
    "#Code adapted from https://blog.logrocket.com/email-spam-detector-python-machine-learning/\n",
    "import pandas as pd\n",
    "from sklearn.model_selection import train_test_split\n",
    "from sklearn.feature_extraction.text import CountVectorizer\n",
    "from sklearn import svm\n",
    "\n",
    "spam = pd.read_csv('spam.csv')\n",
    "x = spam['email']\n",
    "y = spam[\"label\"]\n",
    "x_train, x_test,y_train, y_test = train_test_split(x,y,test_size = 0.2)\n",
    "\n",
    "cv = CountVectorizer()\n",
    "features = cv.fit_transform(x_train)\n",
    "\n",
    "model = svm.SVC()\n",
    "model.fit(features,y_train)\n",
    "\n",
    "features_test = cv.transform(x_test)\n",
    "print(model.score(features_test,y_test))"
   ]
  }
 ],
 "metadata": {
  "kernelspec": {
   "display_name": "base",
   "language": "python",
   "name": "python3"
  },
  "language_info": {
   "codemirror_mode": {
    "name": "ipython",
    "version": 3
   },
   "file_extension": ".py",
   "mimetype": "text/x-python",
   "name": "python",
   "nbconvert_exporter": "python",
   "pygments_lexer": "ipython3",
   "version": "3.9.12"
  },
  "orig_nbformat": 4,
  "vscode": {
   "interpreter": {
    "hash": "f65452c507a835449a5639f0af58a0ca57f2dc7b0176df21c5cd99dd8880bca4"
   }
  }
 },
 "nbformat": 4,
 "nbformat_minor": 2
}
